{
 "cells": [
  {
   "cell_type": "code",
   "execution_count": 2,
   "metadata": {},
   "outputs": [],
   "source": [
    "import os\n",
    "import sys\n",
    "\n",
    "import numpy as np\n",
    "import numpy_financial as npf\n",
    "\n",
    "from scipy.optimize import newton\n",
    "from datetime import datetime\n"
   ]
  },
  {
   "cell_type": "markdown",
   "metadata": {},
   "source": [
    "Direct Alpha  \n"
   ]
  },
  {
   "cell_type": "markdown",
   "metadata": {},
   "source": [
    "|Date|Contribution|Distribution|NET CF+fund NAV|Index Value|Index Return|\n",
    "|------------|-----|---|---|----|---|\n",
    "| 2018-01-01 | -25 | 0 | 0 | 100|30%=(130/100)|\n",
    "| 2018-12-31 | 0 | 15 | 0 | 115 |13%=(130/115)|\n",
    "| 2019-12-31 | 0 | 0 | 20 | 130 |0%=(130/130)|\n",
    "\n",
    "\n",
    "in here index return is measured between the date of the cf and the valuation date (last date)"
   ]
  },
  {
   "cell_type": "code",
   "execution_count": 3,
   "metadata": {},
   "outputs": [
    {
     "data": {
      "text/plain": [
       "0.0875723808901856"
      ]
     },
     "execution_count": 3,
     "metadata": {},
     "output_type": "execute_result"
    }
   ],
   "source": [
    "def calculate_ks_pme(cf_dates, cf_schedule, index_values):\n",
    "         \n",
    "    PME_NAV_list = []\n",
    "    PME_NAV_val = 0\n",
    "    contribution, distrubution = 0,0\n",
    "\n",
    "\n",
    "    index_return = []\n",
    "    for i in range(len(index_values)):\n",
    "        index_return.append((index_values[-1] / index_values[i]) - 1)\n",
    "    \n",
    "    adj_fv_list = []\n",
    "    for i in range(len(cf_schedule)-1):\n",
    "        adj_fv_list.append(cf_schedule[i] * (1 + index_return[i]))\n",
    "\n",
    "    adj_fv_list.append(cf_schedule[-1])\n",
    "\n",
    "    alpha = npf.irr(adj_fv_list)\n",
    "\n",
    "    return alpha\n",
    "\n",
    "# Given data\n",
    "cf_dates = ['2018-01-01', '2018-12-31', '2019-12-31']\n",
    "cf_schedule = [-25, 15, 20] # Including the final NAV as a distribution\n",
    "index_values = [100, 115, 130]\n",
    "\n",
    "last_NAV = 20\n",
    "\n",
    "# Calculate LN PME\n",
    "ks_pme_irr = calculate_ks_pme(cf_dates, cf_schedule, index_values)\n",
    "\n",
    "ks_pme_irr"
   ]
  },
  {
   "cell_type": "code",
   "execution_count": null,
   "metadata": {},
   "outputs": [],
   "source": []
  }
 ],
 "metadata": {
  "kernelspec": {
   "display_name": "Python 3 (ipykernel)",
   "language": "python",
   "name": "python3"
  },
  "language_info": {
   "codemirror_mode": {
    "name": "ipython",
    "version": 3
   },
   "file_extension": ".py",
   "mimetype": "text/x-python",
   "name": "python",
   "nbconvert_exporter": "python",
   "pygments_lexer": "ipython3",
   "version": "3.11.8"
  }
 },
 "nbformat": 4,
 "nbformat_minor": 2
}
