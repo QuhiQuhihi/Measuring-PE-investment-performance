{
 "cells": [
  {
   "cell_type": "code",
   "execution_count": 5,
   "metadata": {},
   "outputs": [],
   "source": [
    "import os\n",
    "import sys\n",
    "\n",
    "import numpy as np\n",
    "import numpy_financial as npf\n",
    "\n",
    "from scipy.optimize import newton\n",
    "from datetime import datetime\n"
   ]
  },
  {
   "cell_type": "markdown",
   "metadata": {},
   "source": [
    "Modified IRR reflects the incorporate reinvestment by assuming the postive cash flows to LPs are reinvested at more realistic expected return. so, cost of capital and reinvestment rate (usually average PE asset class return or public benchmark)\n",
    "\n",
    "But still, MIRR does not directly compare to liquid asset classes where valuations and returns are easily determined through a daily mark-to-market."
   ]
  },
  {
   "cell_type": "code",
   "execution_count": 6,
   "metadata": {},
   "outputs": [],
   "source": [
    "from scipy.optimize import newton\n",
    "import numpy_financial as npf\n",
    "from datetime import datetime\n",
    "\n",
    "def calculate_days(dates):\n",
    "    \"\"\"Calculate days between each date and the first date.\"\"\"\n",
    "    start_date = datetime.strptime(dates[0], \"%Y-%m-%d\")\n",
    "    days = [(datetime.strptime(date, \"%Y-%m-%d\") - start_date).days for date in dates]\n",
    "    return days\n",
    "\n",
    "def objective_function(rate, pv_negative, fv_positive, days):\n",
    "    \"\"\"\n",
    "    Objective function for the Newton method, calculating the NPV of modified cash flows at 'rate'.\n",
    "    \"\"\"\n",
    "    npv = npf.npv(rate, [pv_negative] + [0]*(len(days)-2) + [fv_positive])\n",
    "    return npv\n",
    "\n",
    "def mirr_newton(cashflows, cost_of_capital, reinvestment_rate, dates):\n",
    "    \"\"\"\n",
    "    Calculate MIRR using the Newton method, considering cost of capital and reinvestment rate.\n",
    "    \"\"\"\n",
    "    days = calculate_days(dates)\n",
    "    years = [day / 360 for day in days]  # Convert days to years for each cash flow\n",
    "    \n",
    "    # Separate positive and negative cash flows\n",
    "    positive_cashflows = np.array(cashflows)\n",
    "    positive_cashflows[positive_cashflows < 0] = 0\n",
    "    negative_cashflows = np.array(cashflows)\n",
    "    negative_cashflows[negative_cashflows > 0] = 0\n",
    "    \n",
    "    # Calculate the Present Value (PV) of negative cashflows at the financing rate\n",
    "    pv_negative = npf.npv(cost_of_capital, negative_cashflows)\n",
    "    \n",
    "    # Calculate the Future Value (FV) of positive cashflows at the reinvestment rate\n",
    "    fv_positive = npf.fv(reinvestment_rate, max(years), 0, -sum(positive_cashflows))\n",
    "    \n",
    "    # Use the Newton method to solve for MIRR\n",
    "    mirr_result = newton(func=objective_function, x0=0.1, args=(pv_negative, fv_positive, days))\n",
    "    \n",
    "    return mirr_result\n"
   ]
  },
  {
   "cell_type": "code",
   "execution_count": null,
   "metadata": {},
   "outputs": [],
   "source": []
  },
  {
   "cell_type": "code",
   "execution_count": 7,
   "metadata": {},
   "outputs": [
    {
     "data": {
      "text/plain": [
       "0.2607737463192273"
      ]
     },
     "execution_count": 7,
     "metadata": {},
     "output_type": "execute_result"
    }
   ],
   "source": [
    "# Using the updated parameters for calculation\n",
    "cost_of_capital = 0.08\n",
    "reinvestment_rate = 0.12\n",
    "dates = ['2018-01-01', '2019-12-31', '2020-12-31', '2021-12-31']\n",
    "cashflows = [-100, -20, 50, 100]"
   ]
  },
  {
   "cell_type": "code",
   "execution_count": null,
   "metadata": {},
   "outputs": [],
   "source": []
  }
 ],
 "metadata": {
  "kernelspec": {
   "display_name": "Python 3 (ipykernel)",
   "language": "python",
   "name": "python3"
  },
  "language_info": {
   "codemirror_mode": {
    "name": "ipython",
    "version": 3
   },
   "file_extension": ".py",
   "mimetype": "text/x-python",
   "name": "python",
   "nbconvert_exporter": "python",
   "pygments_lexer": "ipython3",
   "version": "3.11.8"
  }
 },
 "nbformat": 4,
 "nbformat_minor": 2
}
