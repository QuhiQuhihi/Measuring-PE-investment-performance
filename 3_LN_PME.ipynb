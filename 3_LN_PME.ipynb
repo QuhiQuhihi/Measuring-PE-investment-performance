{
 "cells": [
  {
   "cell_type": "markdown",
   "metadata": {},
   "source": [
    "### LN PME (Long Nickels Public Market Equivalent) \n",
    "\n",
    "- Concept: LN PME compares the performance of a PE fund to a benchmark by creating a theoretical investment in the index with the fund’s cash flows.\n",
    "- Strengths: Allows for direct comparison between PE fund returns and public market returns; includes the irregular timing of cash flows.\n",
    "- Weaknesses: High distributions from the fund can lead to a negative NAV in the calculation, indicating a potential short position in the index."
   ]
  },
  {
   "cell_type": "code",
   "execution_count": 2,
   "metadata": {},
   "outputs": [],
   "source": [
    "import os\n",
    "import sys\n",
    "from datetime import datetime\n",
    "\n",
    "import numpy as np\n",
    "import numpy_financial as npf\n",
    "from scipy.optimize import newton"
   ]
  },
  {
   "cell_type": "markdown",
   "metadata": {},
   "source": [
    "LN PME "
   ]
  },
  {
   "cell_type": "markdown",
   "metadata": {},
   "source": [
    "|Date|Contribution|Distribution|NET CF + PE fund NAV | Index Value|\n",
    "|------------|-----|---|---|----|\n",
    "| 2018-01-01 | -25 | 0 | 0 | 100|\n",
    "| 2018-12-31 | 0 | 15 | 0 | 115 |\n",
    "| 2019-12-31 | 0 | 0 | 20 | 130 |\n"
   ]
  },
  {
   "cell_type": "code",
   "execution_count": 3,
   "metadata": {},
   "outputs": [
    {
     "data": {
      "text/plain": [
       "(15.543478260869566, 0.14364633018509765)"
      ]
     },
     "execution_count": 3,
     "metadata": {},
     "output_type": "execute_result"
    }
   ],
   "source": [
    "def calculate_ln_pme(cf_dates, cf_schedule, index_values):\n",
    "         \n",
    "    PME_NAV_list = []\n",
    "    PME_NAV_val = 0\n",
    "    contribution, distrubution = 0,0\n",
    "    for i in range(0, len(cf_dates)):\n",
    "        if cf_schedule[i] < 0:\n",
    "            contribution = contribution -(cf_schedule[i]/index_values[i]) \n",
    "        elif cf_schedule[i] > 0:\n",
    "            distrubution = distrubution - (cf_schedule[i] / index_values[i])\n",
    "    \n",
    "        NAV_value = index_values[i] * (contribution + distrubution)\n",
    "        PME_NAV_list.append(NAV_value)\n",
    "    \n",
    "    final_PME_NAV = PME_NAV_list[-1]\n",
    "\n",
    "    # Final PME NAV calculation with the last NAV included\n",
    "    adj_PME_NAV = cf_schedule\n",
    "    adj_PME_NAV[-1] = final_PME_NAV\n",
    "\n",
    "    # Calculate IRR of adjusted cash flows\n",
    "    pme_irr = npf.irr(adj_PME_NAV)\n",
    "    return final_PME_NAV, pme_irr\n",
    "\n",
    "# Given data\n",
    "cf_dates = ['2018-01-01', '2018-12-31', '2019-12-31']\n",
    "cf_schedule = [-25, 15, 0] # Including the final NAV as a distribution\n",
    "index_values = [100, 115, 130]\n",
    "\n",
    "last_NAV = 20\n",
    "\n",
    "# Calculate LN PME\n",
    "final_pme_nav_value, ln_pme_irr_value = calculate_ln_pme(cf_dates, cf_schedule, index_values)\n",
    "\n",
    "final_pme_nav_value, ln_pme_irr_value"
   ]
  }
 ],
 "metadata": {
  "kernelspec": {
   "display_name": "Python 3 (ipykernel)",
   "language": "python",
   "name": "python3"
  },
  "language_info": {
   "codemirror_mode": {
    "name": "ipython",
    "version": 3
   },
   "file_extension": ".py",
   "mimetype": "text/x-python",
   "name": "python",
   "nbconvert_exporter": "python",
   "pygments_lexer": "ipython3",
   "version": "3.11.8"
  }
 },
 "nbformat": 4,
 "nbformat_minor": 2
}
