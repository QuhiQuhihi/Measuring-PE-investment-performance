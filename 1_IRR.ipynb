{
 "cells": [
  {
   "cell_type": "markdown",
   "metadata": {},
   "source": [
    "### Internal Rate of Return (IRR)\n",
    "\n",
    "- Concept: IRR is the discount rate that makes the net present value (NPV) of a series of cash flows (both in and out) equal to zero. It reflects the time-adjusted return of a private equity fund.\n",
    "- Strengths: Widely used and accepted; considers the size and timing of cash flows.\n",
    "- Weaknesses: Includes a \"reinvestment assumption\" that may overstate performance; does not account for the cost of holding capital; absolute measure, not relative to a benchmark."
   ]
  },
  {
   "cell_type": "code",
   "execution_count": 1,
   "metadata": {},
   "outputs": [],
   "source": [
    "import os\n",
    "import sys\n",
    "from datetime import datetime\n",
    "\n",
    "import numpy as np\n",
    "import numpy_financial as npf\n",
    "from scipy.optimize import newton"
   ]
  },
  {
   "cell_type": "code",
   "execution_count": 41,
   "metadata": {},
   "outputs": [],
   "source": [
    "def days_between(d1, d2):\n",
    "    \"\"\"Calculate the number of days between two dates.\"\"\"\n",
    "    d1 = datetime.strptime(d1, \"%Y-%m-%d\")\n",
    "    d2 = datetime.strptime(d2, \"%Y-%m-%d\")\n",
    "    return abs((d2 - d1).days)\n",
    "\n",
    "def npv(rate, cashflows, days):\n",
    "    \"\"\"Calculate the net present value of cashflows at irregular intervals. (actual/360)\"\"\"\n",
    "    total_value = 0\n",
    "    for i, cashflow in enumerate(cashflows):\n",
    "        total_value += cashflow / ((1 + rate) ** (days[i] / 360))\n",
    "    return total_value\n",
    "\n",
    "def irr(cashflows, dates):\n",
    "    \"\"\"Calculate the internal rate of return for irregular interval cashflows.\"\"\"\n",
    "    # Calculate days between cashflows\n",
    "    start_date = dates[0]\n",
    "    days_diff = [days_between(start_date, date) for date in dates]\n",
    "    \n",
    "    # Define a function to find the root\n",
    "    func = lambda r: npv(r, cashflows, days_diff)\n",
    "    \n",
    "    # Use Newton's method to find the IRR\n",
    "    # Starting with an initial guess of 10%\n",
    "    # To guarantee convergence, please use bisection method\n",
    "    irr_result = newton(func, 0.1)  \n",
    "    return irr_result\n"
   ]
  },
  {
   "cell_type": "code",
   "execution_count": 42,
   "metadata": {},
   "outputs": [
    {
     "data": {
      "text/plain": [
       "0.08528084988580777"
      ]
     },
     "execution_count": 42,
     "metadata": {},
     "output_type": "execute_result"
    }
   ],
   "source": [
    "dates = ['2018-01-01', '2019-12-31', '2020-12-31']\n",
    "cashflows = [-100, -20, 150]\n",
    "\n",
    "irr_result = irr(cashflows, dates)\n",
    "irr_result"
   ]
  },
  {
   "cell_type": "code",
   "execution_count": null,
   "metadata": {},
   "outputs": [],
   "source": []
  }
 ],
 "metadata": {
  "kernelspec": {
   "display_name": "Python 3 (ipykernel)",
   "language": "python",
   "name": "python3"
  },
  "language_info": {
   "codemirror_mode": {
    "name": "ipython",
    "version": 3
   },
   "file_extension": ".py",
   "mimetype": "text/x-python",
   "name": "python",
   "nbconvert_exporter": "python",
   "pygments_lexer": "ipython3",
   "version": "3.11.8"
  }
 },
 "nbformat": 4,
 "nbformat_minor": 2
}
